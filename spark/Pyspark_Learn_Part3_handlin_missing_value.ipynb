{
 "cells": [
  {
   "cell_type": "code",
   "execution_count": 11,
   "id": "48f12457",
   "metadata": {},
   "outputs": [],
   "source": [
    "from pyspark.sql import SparkSession\n",
    "spark = SparkSession.builder.appName('Missing_Value').getOrCreate()"
   ]
  },
  {
   "cell_type": "code",
   "execution_count": 12,
   "id": "283b6954",
   "metadata": {},
   "outputs": [
    {
     "data": {
      "text/html": [
       "\n",
       "            <div>\n",
       "                <p><b>SparkSession - in-memory</b></p>\n",
       "                \n",
       "        <div>\n",
       "            <p><b>SparkContext</b></p>\n",
       "\n",
       "            <p><a href=\"http://DESKTOP-1D8S0II:4042\">Spark UI</a></p>\n",
       "\n",
       "            <dl>\n",
       "              <dt>Version</dt>\n",
       "                <dd><code>v3.3.2</code></dd>\n",
       "              <dt>Master</dt>\n",
       "                <dd><code>local[*]</code></dd>\n",
       "              <dt>AppName</dt>\n",
       "                <dd><code>Missing_Value</code></dd>\n",
       "            </dl>\n",
       "        </div>\n",
       "        \n",
       "            </div>\n",
       "        "
      ],
      "text/plain": [
       "<pyspark.sql.session.SparkSession at 0x1ea2dc0f2b0>"
      ]
     },
     "execution_count": 12,
     "metadata": {},
     "output_type": "execute_result"
    }
   ],
   "source": [
    "spark"
   ]
  },
  {
   "cell_type": "code",
   "execution_count": 13,
   "id": "d85eb29e",
   "metadata": {},
   "outputs": [
    {
     "data": {
      "text/plain": [
       "DataFrame[Name: string, Age: int, Experience: int, Salary: int]"
      ]
     },
     "execution_count": 13,
     "metadata": {},
     "output_type": "execute_result"
    }
   ],
   "source": [
    "df_pyspark = spark.read.csv('Test1.csv', header=True, inferSchema=True)\n",
    "df_pyspark"
   ]
  },
  {
   "cell_type": "code",
   "execution_count": 14,
   "id": "62dfd21d",
   "metadata": {},
   "outputs": [
    {
     "name": "stdout",
     "output_type": "stream",
     "text": [
      "+------+----+----------+------+\n",
      "|  Name| Age|Experience|Salary|\n",
      "+------+----+----------+------+\n",
      "| Illia|  20|        10|  1000|\n",
      "| Artem|  21|         8|  8000|\n",
      "|  Vlad|  30|        20| 20000|\n",
      "| Lesia|  45|        10| 15000|\n",
      "|Nastya|  20|         2| 18000|\n",
      "| Vania|null|      null| 30000|\n",
      "|  null|  34|         5|  3000|\n",
      "|  Roma|null|         4|  null|\n",
      "+------+----+----------+------+\n",
      "\n"
     ]
    }
   ],
   "source": [
    "df_pyspark.show()"
   ]
  },
  {
   "cell_type": "code",
   "execution_count": 15,
   "id": "ef9961ea",
   "metadata": {},
   "outputs": [
    {
     "name": "stdout",
     "output_type": "stream",
     "text": [
      "+----+----------+------+\n",
      "| Age|Experience|Salary|\n",
      "+----+----------+------+\n",
      "|  20|        10|  1000|\n",
      "|  21|         8|  8000|\n",
      "|  30|        20| 20000|\n",
      "|  45|        10| 15000|\n",
      "|  20|         2| 18000|\n",
      "|null|      null| 30000|\n",
      "|  34|         5|  3000|\n",
      "|null|         4|  null|\n",
      "+----+----------+------+\n",
      "\n"
     ]
    }
   ],
   "source": [
    "### drop the columns\n",
    "df_pyspark.drop('Name').show()"
   ]
  },
  {
   "cell_type": "code",
   "execution_count": 16,
   "id": "068f0cd9",
   "metadata": {},
   "outputs": [
    {
     "name": "stdout",
     "output_type": "stream",
     "text": [
      "+------+----+----------+------+\n",
      "|  Name| Age|Experience|Salary|\n",
      "+------+----+----------+------+\n",
      "| Illia|  20|        10|  1000|\n",
      "| Artem|  21|         8|  8000|\n",
      "|  Vlad|  30|        20| 20000|\n",
      "| Lesia|  45|        10| 15000|\n",
      "|Nastya|  20|         2| 18000|\n",
      "| Vania|null|      null| 30000|\n",
      "|  null|  34|         5|  3000|\n",
      "|  Roma|null|         4|  null|\n",
      "+------+----+----------+------+\n",
      "\n"
     ]
    }
   ],
   "source": [
    "df_pyspark.show()"
   ]
  },
  {
   "cell_type": "code",
   "execution_count": 17,
   "id": "33544948",
   "metadata": {},
   "outputs": [
    {
     "name": "stdout",
     "output_type": "stream",
     "text": [
      "+------+---+----------+------+\n",
      "|  Name|Age|Experience|Salary|\n",
      "+------+---+----------+------+\n",
      "| Illia| 20|        10|  1000|\n",
      "| Artem| 21|         8|  8000|\n",
      "|  Vlad| 30|        20| 20000|\n",
      "| Lesia| 45|        10| 15000|\n",
      "|Nastya| 20|         2| 18000|\n",
      "+------+---+----------+------+\n",
      "\n"
     ]
    }
   ],
   "source": [
    "### droping the null value\n",
    "df_pyspark.na.drop().show()"
   ]
  },
  {
   "cell_type": "code",
   "execution_count": 18,
   "id": "9f1ea5b7",
   "metadata": {},
   "outputs": [
    {
     "name": "stdout",
     "output_type": "stream",
     "text": [
      "+------+----+----------+------+\n",
      "|  Name| Age|Experience|Salary|\n",
      "+------+----+----------+------+\n",
      "| Illia|  20|        10|  1000|\n",
      "| Artem|  21|         8|  8000|\n",
      "|  Vlad|  30|        20| 20000|\n",
      "| Lesia|  45|        10| 15000|\n",
      "|Nastya|  20|         2| 18000|\n",
      "| Vania|null|      null| 30000|\n",
      "|  null|  34|         5|  3000|\n",
      "|  Roma|null|         4|  null|\n",
      "+------+----+----------+------+\n",
      "\n"
     ]
    }
   ],
   "source": [
    "##### argument how=='all' or 'any'\n",
    "# all == delete row if all value in this row are null\n",
    "# any == delete row if at least one value in row is null\n",
    "df_pyspark.na.drop(how='all').show()"
   ]
  },
  {
   "cell_type": "code",
   "execution_count": 21,
   "id": "d1397409",
   "metadata": {},
   "outputs": [
    {
     "name": "stdout",
     "output_type": "stream",
     "text": [
      "+------+----+----------+------+\n",
      "|  Name| Age|Experience|Salary|\n",
      "+------+----+----------+------+\n",
      "| Illia|  20|        10|  1000|\n",
      "| Artem|  21|         8|  8000|\n",
      "|  Vlad|  30|        20| 20000|\n",
      "| Lesia|  45|        10| 15000|\n",
      "|Nastya|  20|         2| 18000|\n",
      "| Vania|null|      null| 30000|\n",
      "|  null|  34|         5|  3000|\n",
      "|  Roma|null|         4|  null|\n",
      "+------+----+----------+------+\n",
      "\n"
     ]
    }
   ],
   "source": [
    "### threshold == left value with some count of not null value in row\n",
    "df_pyspark.na.drop(how='any', thresh = 2).show()"
   ]
  },
  {
   "cell_type": "code",
   "execution_count": 23,
   "id": "7fe2a3f1",
   "metadata": {},
   "outputs": [
    {
     "name": "stdout",
     "output_type": "stream",
     "text": [
      "+------+----+----------+------+\n",
      "|  Name| Age|Experience|Salary|\n",
      "+------+----+----------+------+\n",
      "| Illia|  20|        10|  1000|\n",
      "| Artem|  21|         8|  8000|\n",
      "|  Vlad|  30|        20| 20000|\n",
      "| Lesia|  45|        10| 15000|\n",
      "|Nastya|  20|         2| 18000|\n",
      "|  null|  34|         5|  3000|\n",
      "|  Roma|null|         4|  null|\n",
      "+------+----+----------+------+\n",
      "\n"
     ]
    }
   ],
   "source": [
    "### subset == delete null value in collumns in subset argument list\n",
    "df_pyspark.na.drop(how='any', subset=['Experience']).show()"
   ]
  },
  {
   "cell_type": "code",
   "execution_count": 26,
   "id": "75381544",
   "metadata": {},
   "outputs": [
    {
     "name": "stdout",
     "output_type": "stream",
     "text": [
      "+--------------+----+----------+------+\n",
      "|          Name| Age|Experience|Salary|\n",
      "+--------------+----+----------+------+\n",
      "|         Illia|  20|        10|  1000|\n",
      "|         Artem|  21|         8|  8000|\n",
      "|          Vlad|  30|        20| 20000|\n",
      "|         Lesia|  45|        10| 15000|\n",
      "|        Nastya|  20|         2| 18000|\n",
      "|         Vania|null|      null| 30000|\n",
      "|Missing Values|  34|         5|  3000|\n",
      "|          Roma|null|         4|  null|\n",
      "+--------------+----+----------+------+\n",
      "\n"
     ]
    }
   ],
   "source": [
    "##### filling the missing value\n",
    "df_pyspark.na.fill('Missing Values').show()"
   ]
  },
  {
   "cell_type": "code",
   "execution_count": 27,
   "id": "c115db7d",
   "metadata": {},
   "outputs": [
    {
     "name": "stdout",
     "output_type": "stream",
     "text": [
      "+------+---+----------+------+\n",
      "|  Name|Age|Experience|Salary|\n",
      "+------+---+----------+------+\n",
      "| Illia| 20|        10|  1000|\n",
      "| Artem| 21|         8|  8000|\n",
      "|  Vlad| 30|        20| 20000|\n",
      "| Lesia| 45|        10| 15000|\n",
      "|Nastya| 20|         2| 18000|\n",
      "| Vania|  0|         0| 30000|\n",
      "|  null| 34|         5|  3000|\n",
      "|  Roma|  0|         4|     0|\n",
      "+------+---+----------+------+\n",
      "\n"
     ]
    }
   ],
   "source": [
    "##### filling the missing value in specific columns\n",
    "df_pyspark.na.fill(0, subset=['Age','Experience','Salary']).show()"
   ]
  },
  {
   "cell_type": "code",
   "execution_count": 28,
   "id": "89f2de1a",
   "metadata": {},
   "outputs": [],
   "source": [
    "#### Imputer == Imputation estimator for completing missing values, \n",
    "#using the mean, median or mode of the columns in which the missing values are located.\n",
    "from pyspark.ml.feature import Imputer\n",
    "\n",
    "imputer = Imputer(\n",
    "inputCols=['Age','Experience','Salary'],\n",
    "outputCols=['{}_imputed'.format(c) for c in ['Age', 'Experience','Salary']]\n",
    ").setStrategy('mean')"
   ]
  },
  {
   "cell_type": "code",
   "execution_count": 30,
   "id": "dec724e3",
   "metadata": {},
   "outputs": [
    {
     "name": "stdout",
     "output_type": "stream",
     "text": [
      "+------+----+----------+------+-----------+------------------+--------------+\n",
      "|  Name| Age|Experience|Salary|Age_imputed|Experience_imputed|Salary_imputed|\n",
      "+------+----+----------+------+-----------+------------------+--------------+\n",
      "| Illia|  20|        10|  1000|         20|                10|          1000|\n",
      "| Artem|  21|         8|  8000|         21|                 8|          8000|\n",
      "|  Vlad|  30|        20| 20000|         30|                20|         20000|\n",
      "| Lesia|  45|        10| 15000|         45|                10|         15000|\n",
      "|Nastya|  20|         2| 18000|         20|                 2|         18000|\n",
      "| Vania|null|      null| 30000|         28|                 8|         30000|\n",
      "|  null|  34|         5|  3000|         34|                 5|          3000|\n",
      "|  Roma|null|         4|  null|         28|                 4|         13571|\n",
      "+------+----+----------+------+-----------+------------------+--------------+\n",
      "\n"
     ]
    }
   ],
   "source": [
    "# Add imputation cols to df\n",
    "imputer.fit(df_pyspark).transform(df_pyspark).show()"
   ]
  },
  {
   "cell_type": "code",
   "execution_count": null,
   "id": "2511d71a",
   "metadata": {},
   "outputs": [],
   "source": []
  }
 ],
 "metadata": {
  "kernelspec": {
   "display_name": "Python 3 (ipykernel)",
   "language": "python",
   "name": "python3"
  },
  "language_info": {
   "codemirror_mode": {
    "name": "ipython",
    "version": 3
   },
   "file_extension": ".py",
   "mimetype": "text/x-python",
   "name": "python",
   "nbconvert_exporter": "python",
   "pygments_lexer": "ipython3",
   "version": "3.9.13"
  }
 },
 "nbformat": 4,
 "nbformat_minor": 5
}
