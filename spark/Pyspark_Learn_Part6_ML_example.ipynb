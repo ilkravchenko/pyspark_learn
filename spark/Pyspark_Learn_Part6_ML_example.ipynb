{
 "cells": [
  {
   "cell_type": "code",
   "execution_count": 3,
   "id": "556c3547",
   "metadata": {},
   "outputs": [
    {
     "data": {
      "text/html": [
       "\n",
       "            <div>\n",
       "                <p><b>SparkSession - in-memory</b></p>\n",
       "                \n",
       "        <div>\n",
       "            <p><b>SparkContext</b></p>\n",
       "\n",
       "            <p><a href=\"http://DESKTOP-1D8S0II:4045\">Spark UI</a></p>\n",
       "\n",
       "            <dl>\n",
       "              <dt>Version</dt>\n",
       "                <dd><code>v3.3.2</code></dd>\n",
       "              <dt>Master</dt>\n",
       "                <dd><code>local[*]</code></dd>\n",
       "              <dt>AppName</dt>\n",
       "                <dd><code>ML example</code></dd>\n",
       "            </dl>\n",
       "        </div>\n",
       "        \n",
       "            </div>\n",
       "        "
      ],
      "text/plain": [
       "<pyspark.sql.session.SparkSession at 0x1f0dc44caf0>"
      ]
     },
     "execution_count": 3,
     "metadata": {},
     "output_type": "execute_result"
    }
   ],
   "source": [
    "from pyspark.sql import SparkSession\n",
    "spark = SparkSession.builder.appName(\"ML example\").getOrCreate()\n",
    "spark"
   ]
  },
  {
   "cell_type": "code",
   "execution_count": 4,
   "id": "905c9bff",
   "metadata": {},
   "outputs": [
    {
     "name": "stdout",
     "output_type": "stream",
     "text": [
      "+------+---+----------+------+\n",
      "|  Name|Age|Experience|Salary|\n",
      "+------+---+----------+------+\n",
      "| Illia| 20|        10|  1000|\n",
      "| Artem| 21|         8|  8000|\n",
      "|  Vlad| 30|        20| 20000|\n",
      "| Lesia| 45|        10| 15000|\n",
      "|Nastya| 20|         2| 18000|\n",
      "| Vania| 27|         6| 30000|\n",
      "|  Dima| 34|         5|  3000|\n",
      "|  Roma| 54|         4| 15000|\n",
      "+------+---+----------+------+\n",
      "\n"
     ]
    }
   ],
   "source": [
    "### Read the Dataset\n",
    "df_pyspark = spark.read.csv('Test1.csv',header=True, inferSchema=True)\n",
    "df_pyspark.show()"
   ]
  },
  {
   "cell_type": "code",
   "execution_count": 5,
   "id": "99fc2466",
   "metadata": {},
   "outputs": [
    {
     "name": "stdout",
     "output_type": "stream",
     "text": [
      "root\n",
      " |-- Name: string (nullable = true)\n",
      " |-- Age: integer (nullable = true)\n",
      " |-- Experience: integer (nullable = true)\n",
      " |-- Salary: integer (nullable = true)\n",
      "\n"
     ]
    }
   ],
   "source": [
    "df_pyspark.printSchema()"
   ]
  },
  {
   "cell_type": "code",
   "execution_count": 6,
   "id": "b3532035",
   "metadata": {},
   "outputs": [
    {
     "data": {
      "text/plain": [
       "['Name', 'Age', 'Experience', 'Salary']"
      ]
     },
     "execution_count": 6,
     "metadata": {},
     "output_type": "execute_result"
    }
   ],
   "source": [
    "df_pyspark.columns"
   ]
  },
  {
   "cell_type": "code",
   "execution_count": 7,
   "id": "ec268425",
   "metadata": {},
   "outputs": [],
   "source": [
    "####['Age','Experience']----> new feature -------> Independed feature\n",
    "from pyspark.ml.feature import VectorAssembler\n",
    "feature_assembler = VectorAssembler(inputCols=['Age','Experience'], outputCol='Independ Feature')"
   ]
  },
  {
   "cell_type": "code",
   "execution_count": 8,
   "id": "90d0a70b",
   "metadata": {},
   "outputs": [],
   "source": [
    "output = feature_assembler.transform(df_pyspark)"
   ]
  },
  {
   "cell_type": "code",
   "execution_count": 9,
   "id": "f928642a",
   "metadata": {},
   "outputs": [
    {
     "name": "stdout",
     "output_type": "stream",
     "text": [
      "+------+---+----------+------+----------------+\n",
      "|  Name|Age|Experience|Salary|Independ Feature|\n",
      "+------+---+----------+------+----------------+\n",
      "| Illia| 20|        10|  1000|     [20.0,10.0]|\n",
      "| Artem| 21|         8|  8000|      [21.0,8.0]|\n",
      "|  Vlad| 30|        20| 20000|     [30.0,20.0]|\n",
      "| Lesia| 45|        10| 15000|     [45.0,10.0]|\n",
      "|Nastya| 20|         2| 18000|      [20.0,2.0]|\n",
      "| Vania| 27|         6| 30000|      [27.0,6.0]|\n",
      "|  Dima| 34|         5|  3000|      [34.0,5.0]|\n",
      "|  Roma| 54|         4| 15000|      [54.0,4.0]|\n",
      "+------+---+----------+------+----------------+\n",
      "\n"
     ]
    }
   ],
   "source": [
    "output.show()"
   ]
  },
  {
   "cell_type": "code",
   "execution_count": 10,
   "id": "55a293fa",
   "metadata": {},
   "outputs": [
    {
     "data": {
      "text/plain": [
       "['Name', 'Age', 'Experience', 'Salary', 'Independ Feature']"
      ]
     },
     "execution_count": 10,
     "metadata": {},
     "output_type": "execute_result"
    }
   ],
   "source": [
    "output.columns"
   ]
  },
  {
   "cell_type": "code",
   "execution_count": 15,
   "id": "0cef36d1",
   "metadata": {},
   "outputs": [],
   "source": [
    "finalised_data = output.select(['Independ Feature','Salary'])"
   ]
  },
  {
   "cell_type": "code",
   "execution_count": 16,
   "id": "7fa57b3f",
   "metadata": {},
   "outputs": [
    {
     "name": "stdout",
     "output_type": "stream",
     "text": [
      "+----------------+------+\n",
      "|Independ Feature|Salary|\n",
      "+----------------+------+\n",
      "|     [20.0,10.0]|  1000|\n",
      "|      [21.0,8.0]|  8000|\n",
      "|     [30.0,20.0]| 20000|\n",
      "|     [45.0,10.0]| 15000|\n",
      "|      [20.0,2.0]| 18000|\n",
      "|      [27.0,6.0]| 30000|\n",
      "|      [34.0,5.0]|  3000|\n",
      "|      [54.0,4.0]| 15000|\n",
      "+----------------+------+\n",
      "\n"
     ]
    }
   ],
   "source": [
    "finalised_data.show()"
   ]
  },
  {
   "cell_type": "code",
   "execution_count": 20,
   "id": "0856d99c",
   "metadata": {},
   "outputs": [],
   "source": [
    "from pyspark.ml.regression import LinearRegression\n",
    "#train test split \n",
    "train_data, test_data = finalised_data.randomSplit([0.75,0.25])\n",
    "regressor = LinearRegression(featuresCol='Independ Feature', labelCol='Salary')\n",
    "regressor = regressor.fit(train_data)"
   ]
  },
  {
   "cell_type": "code",
   "execution_count": 21,
   "id": "671aac29",
   "metadata": {},
   "outputs": [
    {
     "data": {
      "text/plain": [
       "DenseVector([92.5845, 114.4644])"
      ]
     },
     "execution_count": 21,
     "metadata": {},
     "output_type": "execute_result"
    }
   ],
   "source": [
    "### Coefficients\n",
    "regressor.coefficients"
   ]
  },
  {
   "cell_type": "code",
   "execution_count": 22,
   "id": "e02f8b6d",
   "metadata": {},
   "outputs": [
    {
     "data": {
      "text/plain": [
       "9947.43518616639"
      ]
     },
     "execution_count": 22,
     "metadata": {},
     "output_type": "execute_result"
    }
   ],
   "source": [
    "### Intercepts\n",
    "regressor.intercept"
   ]
  },
  {
   "cell_type": "code",
   "execution_count": 23,
   "id": "6cb35903",
   "metadata": {},
   "outputs": [],
   "source": [
    "### Prediction\n",
    "pred_results = regressor.evaluate(test_data)"
   ]
  },
  {
   "cell_type": "code",
   "execution_count": 24,
   "id": "e377f4a8",
   "metadata": {},
   "outputs": [
    {
     "name": "stdout",
     "output_type": "stream",
     "text": [
      "+----------------+------+------------------+\n",
      "|Independ Feature|Salary|        prediction|\n",
      "+----------------+------+------------------+\n",
      "|     [45.0,10.0]| 15000|15258.382630702963|\n",
      "+----------------+------+------------------+\n",
      "\n"
     ]
    }
   ],
   "source": [
    "pred_results.predictions.show()"
   ]
  },
  {
   "cell_type": "code",
   "execution_count": null,
   "id": "593e4c99",
   "metadata": {},
   "outputs": [],
   "source": []
  }
 ],
 "metadata": {
  "kernelspec": {
   "display_name": "Python 3 (ipykernel)",
   "language": "python",
   "name": "python3"
  },
  "language_info": {
   "codemirror_mode": {
    "name": "ipython",
    "version": 3
   },
   "file_extension": ".py",
   "mimetype": "text/x-python",
   "name": "python",
   "nbconvert_exporter": "python",
   "pygments_lexer": "ipython3",
   "version": "3.9.13"
  }
 },
 "nbformat": 4,
 "nbformat_minor": 5
}
