{
 "cells": [
  {
   "cell_type": "code",
   "execution_count": 1,
   "id": "1f14bd38",
   "metadata": {},
   "outputs": [
    {
     "data": {
      "text/html": [
       "\n",
       "            <div>\n",
       "                <p><b>SparkSession - in-memory</b></p>\n",
       "                \n",
       "        <div>\n",
       "            <p><b>SparkContext</b></p>\n",
       "\n",
       "            <p><a href=\"http://DESKTOP-1D8S0II:4044\">Spark UI</a></p>\n",
       "\n",
       "            <dl>\n",
       "              <dt>Version</dt>\n",
       "                <dd><code>v3.3.2</code></dd>\n",
       "              <dt>Master</dt>\n",
       "                <dd><code>local[*]</code></dd>\n",
       "              <dt>AppName</dt>\n",
       "                <dd><code>Group by</code></dd>\n",
       "            </dl>\n",
       "        </div>\n",
       "        \n",
       "            </div>\n",
       "        "
      ],
      "text/plain": [
       "<pyspark.sql.session.SparkSession at 0x162f2f94fa0>"
      ]
     },
     "execution_count": 1,
     "metadata": {},
     "output_type": "execute_result"
    }
   ],
   "source": [
    "from pyspark.sql import SparkSession\n",
    "spark = SparkSession.builder.appName('Group by').getOrCreate()\n",
    "spark"
   ]
  },
  {
   "cell_type": "code",
   "execution_count": 3,
   "id": "b7eee06d",
   "metadata": {},
   "outputs": [
    {
     "name": "stdout",
     "output_type": "stream",
     "text": [
      "+------+------------+-------+\n",
      "|  Name|  Department| Salary|\n",
      "+------+------------+-------+\n",
      "| Illia|         IOT|10000.0|\n",
      "| Artem|Data Science|15000.0|\n",
      "|  Vlad|    Big Data| 5000.0|\n",
      "| Lesia|    Big Data|20000.0|\n",
      "|Nastya|         IOT|20000.0|\n",
      "| Vania|Data Science| 4000.0|\n",
      "| Elena|         IOT| 8000.0|\n",
      "| Yarik|Data Science|13000.0|\n",
      "| Kolia|Data Science| 7000.0|\n",
      "| Nazar|         IOT|16000.0|\n",
      "|Nastya|    Big Data|20000.0|\n",
      "| Illia|Data Science|10000.0|\n",
      "| Illia|    Big Data|10000.0|\n",
      "+------+------------+-------+\n",
      "\n"
     ]
    }
   ],
   "source": [
    "df_pyspark = spark.read.csv('Test_for_groupby.csv', header=True, inferSchema=True)\n",
    "df_pyspark.show()"
   ]
  },
  {
   "cell_type": "code",
   "execution_count": 5,
   "id": "d9e91ea2",
   "metadata": {},
   "outputs": [
    {
     "name": "stdout",
     "output_type": "stream",
     "text": [
      "root\n",
      " |-- Name: string (nullable = true)\n",
      " |-- Department: string (nullable = true)\n",
      " |-- Salary: double (nullable = true)\n",
      "\n"
     ]
    }
   ],
   "source": [
    "df_pyspark.printSchema()"
   ]
  },
  {
   "cell_type": "code",
   "execution_count": 10,
   "id": "e13d135f",
   "metadata": {},
   "outputs": [
    {
     "name": "stdout",
     "output_type": "stream",
     "text": [
      "+------+-----------+\n",
      "|  Name|sum(Salary)|\n",
      "+------+-----------+\n",
      "|  Vlad|     5000.0|\n",
      "| Lesia|    20000.0|\n",
      "| Kolia|     7000.0|\n",
      "| Nazar|    16000.0|\n",
      "| Vania|     4000.0|\n",
      "| Artem|    15000.0|\n",
      "| Yarik|    13000.0|\n",
      "|Nastya|    40000.0|\n",
      "| Elena|     8000.0|\n",
      "| Illia|    30000.0|\n",
      "+------+-----------+\n",
      "\n"
     ]
    }
   ],
   "source": [
    "#### Groupby\n",
    "####Group to find the maximum Salary\n",
    "df_pyspark.groupBy('Name').sum().show()"
   ]
  },
  {
   "cell_type": "code",
   "execution_count": 13,
   "id": "bdfef0b6",
   "metadata": {},
   "outputs": [
    {
     "name": "stdout",
     "output_type": "stream",
     "text": [
      "+------------+-----------+\n",
      "|  Department|max(Salary)|\n",
      "+------------+-----------+\n",
      "|         IOT|    20000.0|\n",
      "|    Big Data|    20000.0|\n",
      "|Data Science|    15000.0|\n",
      "+------------+-----------+\n",
      "\n",
      "+------------+-----------+\n",
      "|  Department|sum(Salary)|\n",
      "+------------+-----------+\n",
      "|         IOT|    54000.0|\n",
      "|    Big Data|    55000.0|\n",
      "|Data Science|    49000.0|\n",
      "+------------+-----------+\n",
      "\n"
     ]
    }
   ],
   "source": [
    "#### Groupby departments which gives maximum salaryy and max Salary to one person\n",
    "df_pyspark.groupBy('Department').max('Salary').show()\n",
    "df_pyspark.groupBy('Department').sum('Salary').show()"
   ]
  },
  {
   "cell_type": "code",
   "execution_count": 14,
   "id": "18629c85",
   "metadata": {},
   "outputs": [
    {
     "name": "stdout",
     "output_type": "stream",
     "text": [
      "+------------+-----------+\n",
      "|  Department|avg(Salary)|\n",
      "+------------+-----------+\n",
      "|         IOT|    13500.0|\n",
      "|    Big Data|    13750.0|\n",
      "|Data Science|     9800.0|\n",
      "+------------+-----------+\n",
      "\n"
     ]
    }
   ],
   "source": [
    "df_pyspark.groupBy('Department').mean('Salary').show()"
   ]
  },
  {
   "cell_type": "code",
   "execution_count": 16,
   "id": "bfde78bd",
   "metadata": {},
   "outputs": [
    {
     "name": "stdout",
     "output_type": "stream",
     "text": [
      "+------------+-----+\n",
      "|  Department|count|\n",
      "+------------+-----+\n",
      "|         IOT|    4|\n",
      "|    Big Data|    4|\n",
      "|Data Science|    5|\n",
      "+------------+-----+\n",
      "\n"
     ]
    }
   ],
   "source": [
    "## coun how many people work in each department\n",
    "df_pyspark.groupBy('Department').count().show()"
   ]
  },
  {
   "cell_type": "code",
   "execution_count": 20,
   "id": "426d13f4",
   "metadata": {},
   "outputs": [
    {
     "name": "stdout",
     "output_type": "stream",
     "text": [
      "+-----------+\n",
      "|sum(Salary)|\n",
      "+-----------+\n",
      "|   158000.0|\n",
      "+-----------+\n",
      "\n"
     ]
    }
   ],
   "source": [
    "## total value for each row\n",
    "df_pyspark.agg({'Salary':'sum',}).show()"
   ]
  },
  {
   "cell_type": "code",
   "execution_count": null,
   "id": "2b365cc8",
   "metadata": {},
   "outputs": [],
   "source": []
  }
 ],
 "metadata": {
  "kernelspec": {
   "display_name": "Python 3 (ipykernel)",
   "language": "python",
   "name": "python3"
  },
  "language_info": {
   "codemirror_mode": {
    "name": "ipython",
    "version": 3
   },
   "file_extension": ".py",
   "mimetype": "text/x-python",
   "name": "python",
   "nbconvert_exporter": "python",
   "pygments_lexer": "ipython3",
   "version": "3.9.13"
  }
 },
 "nbformat": 4,
 "nbformat_minor": 5
}
