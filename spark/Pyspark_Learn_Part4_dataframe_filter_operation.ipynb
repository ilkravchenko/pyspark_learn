{
 "cells": [
  {
   "cell_type": "code",
   "execution_count": 1,
   "id": "5a387c8b",
   "metadata": {},
   "outputs": [],
   "source": [
    "from pyspark.sql import SparkSession"
   ]
  },
  {
   "cell_type": "code",
   "execution_count": 2,
   "id": "e0a035a1",
   "metadata": {},
   "outputs": [],
   "source": [
    "spark = SparkSession.builder.appName('Filtering').getOrCreate()"
   ]
  },
  {
   "cell_type": "code",
   "execution_count": 3,
   "id": "644eb5b2",
   "metadata": {},
   "outputs": [
    {
     "data": {
      "text/html": [
       "\n",
       "            <div>\n",
       "                <p><b>SparkSession - in-memory</b></p>\n",
       "                \n",
       "        <div>\n",
       "            <p><b>SparkContext</b></p>\n",
       "\n",
       "            <p><a href=\"http://DESKTOP-1D8S0II:4043\">Spark UI</a></p>\n",
       "\n",
       "            <dl>\n",
       "              <dt>Version</dt>\n",
       "                <dd><code>v3.3.2</code></dd>\n",
       "              <dt>Master</dt>\n",
       "                <dd><code>local[*]</code></dd>\n",
       "              <dt>AppName</dt>\n",
       "                <dd><code>Filtering</code></dd>\n",
       "            </dl>\n",
       "        </div>\n",
       "        \n",
       "            </div>\n",
       "        "
      ],
      "text/plain": [
       "<pyspark.sql.session.SparkSession at 0x1f38a91f7f0>"
      ]
     },
     "execution_count": 3,
     "metadata": {},
     "output_type": "execute_result"
    }
   ],
   "source": [
    "spark"
   ]
  },
  {
   "cell_type": "code",
   "execution_count": 5,
   "id": "3a562e3e",
   "metadata": {},
   "outputs": [
    {
     "name": "stdout",
     "output_type": "stream",
     "text": [
      "+------+---+----------+------+\n",
      "|  Name|Age|Experience|Salary|\n",
      "+------+---+----------+------+\n",
      "| Illia| 20|        10|  1000|\n",
      "| Artem| 21|         8|  8000|\n",
      "|  Vlad| 30|        20| 20000|\n",
      "| Lesia| 45|        10| 15000|\n",
      "|Nastya| 20|         2| 18000|\n",
      "+------+---+----------+------+\n",
      "\n"
     ]
    }
   ],
   "source": [
    "df_pyspark = spark.read.csv('Test2.csv', header=True, inferSchema=True)\n",
    "df_pyspark.show()"
   ]
  },
  {
   "cell_type": "markdown",
   "id": "090c4f90",
   "metadata": {},
   "source": [
    "#### Filter operation"
   ]
  },
  {
   "cell_type": "code",
   "execution_count": 6,
   "id": "39ec59d3",
   "metadata": {},
   "outputs": [
    {
     "name": "stdout",
     "output_type": "stream",
     "text": [
      "+-----+---+----------+------+\n",
      "| Name|Age|Experience|Salary|\n",
      "+-----+---+----------+------+\n",
      "|Illia| 20|        10|  1000|\n",
      "|Artem| 21|         8|  8000|\n",
      "+-----+---+----------+------+\n",
      "\n"
     ]
    }
   ],
   "source": [
    "#### Salary of the people less that 1000\n",
    "df_pyspark.filter('Salary<=10000').show()"
   ]
  },
  {
   "cell_type": "code",
   "execution_count": 7,
   "id": "82528b2f",
   "metadata": {},
   "outputs": [
    {
     "name": "stdout",
     "output_type": "stream",
     "text": [
      "+-----+---+\n",
      "| Name|Age|\n",
      "+-----+---+\n",
      "|Illia| 20|\n",
      "|Artem| 21|\n",
      "+-----+---+\n",
      "\n"
     ]
    }
   ],
   "source": [
    "df_pyspark.filter('Salary<=10000').select(['Name', 'Age']).show()"
   ]
  },
  {
   "cell_type": "code",
   "execution_count": 8,
   "id": "5f53656e",
   "metadata": {},
   "outputs": [
    {
     "name": "stdout",
     "output_type": "stream",
     "text": [
      "+-----+---+----------+------+\n",
      "| Name|Age|Experience|Salary|\n",
      "+-----+---+----------+------+\n",
      "|Illia| 20|        10|  1000|\n",
      "|Artem| 21|         8|  8000|\n",
      "+-----+---+----------+------+\n",
      "\n"
     ]
    }
   ],
   "source": [
    "#### another way to filter datasets\n",
    "df_pyspark.filter(df_pyspark['Salary']<=10000).show()"
   ]
  },
  {
   "cell_type": "code",
   "execution_count": 9,
   "id": "71850cc6",
   "metadata": {},
   "outputs": [
    {
     "name": "stdout",
     "output_type": "stream",
     "text": [
      "+-----+---+----------+------+\n",
      "| Name|Age|Experience|Salary|\n",
      "+-----+---+----------+------+\n",
      "|Illia| 20|        10|  1000|\n",
      "+-----+---+----------+------+\n",
      "\n"
     ]
    }
   ],
   "source": [
    "# mulltiple conditions\n",
    "df_pyspark.filter((df_pyspark['Salary']<=10000) & \n",
    "                  (df_pyspark['Experience'] >= 10)).show()"
   ]
  },
  {
   "cell_type": "code",
   "execution_count": 10,
   "id": "5d37b7fd",
   "metadata": {},
   "outputs": [
    {
     "name": "stdout",
     "output_type": "stream",
     "text": [
      "+-----+---+----------+------+\n",
      "| Name|Age|Experience|Salary|\n",
      "+-----+---+----------+------+\n",
      "|Illia| 20|        10|  1000|\n",
      "|Artem| 21|         8|  8000|\n",
      "| Vlad| 30|        20| 20000|\n",
      "|Lesia| 45|        10| 15000|\n",
      "+-----+---+----------+------+\n",
      "\n"
     ]
    }
   ],
   "source": [
    "# mulltiple conditions\n",
    "df_pyspark.filter((df_pyspark['Salary']<=10000) | \n",
    "                  (df_pyspark['Experience'] >= 10)).show()"
   ]
  },
  {
   "cell_type": "code",
   "execution_count": 12,
   "id": "3af50de9",
   "metadata": {},
   "outputs": [
    {
     "name": "stdout",
     "output_type": "stream",
     "text": [
      "+------+---+----------+------+\n",
      "|  Name|Age|Experience|Salary|\n",
      "+------+---+----------+------+\n",
      "|  Vlad| 30|        20| 20000|\n",
      "| Lesia| 45|        10| 15000|\n",
      "|Nastya| 20|         2| 18000|\n",
      "+------+---+----------+------+\n",
      "\n"
     ]
    }
   ],
   "source": [
    "### ~ == not\n",
    "df_pyspark.filter(~(df_pyspark['Salary']<=10000)).show()"
   ]
  },
  {
   "cell_type": "code",
   "execution_count": null,
   "id": "46c9f273",
   "metadata": {},
   "outputs": [],
   "source": []
  }
 ],
 "metadata": {
  "kernelspec": {
   "display_name": "Python 3 (ipykernel)",
   "language": "python",
   "name": "python3"
  },
  "language_info": {
   "codemirror_mode": {
    "name": "ipython",
    "version": 3
   },
   "file_extension": ".py",
   "mimetype": "text/x-python",
   "name": "python",
   "nbconvert_exporter": "python",
   "pygments_lexer": "ipython3",
   "version": "3.9.13"
  }
 },
 "nbformat": 4,
 "nbformat_minor": 5
}
